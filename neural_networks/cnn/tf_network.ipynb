{
 "cells": [
  {
   "cell_type": "code",
   "execution_count": 1,
   "metadata": {},
   "outputs": [
    {
     "name": "stderr",
     "output_type": "stream",
     "text": [
      "/Users/felixgeorge/opt/anaconda3/lib/python3.7/site-packages/tensorflow/python/framework/dtypes.py:516: FutureWarning: Passing (type, 1) or '1type' as a synonym of type is deprecated; in a future version of numpy, it will be understood as (type, (1,)) / '(1,)type'.\n",
      "  _np_qint8 = np.dtype([(\"qint8\", np.int8, 1)])\n",
      "/Users/felixgeorge/opt/anaconda3/lib/python3.7/site-packages/tensorflow/python/framework/dtypes.py:517: FutureWarning: Passing (type, 1) or '1type' as a synonym of type is deprecated; in a future version of numpy, it will be understood as (type, (1,)) / '(1,)type'.\n",
      "  _np_quint8 = np.dtype([(\"quint8\", np.uint8, 1)])\n",
      "/Users/felixgeorge/opt/anaconda3/lib/python3.7/site-packages/tensorflow/python/framework/dtypes.py:518: FutureWarning: Passing (type, 1) or '1type' as a synonym of type is deprecated; in a future version of numpy, it will be understood as (type, (1,)) / '(1,)type'.\n",
      "  _np_qint16 = np.dtype([(\"qint16\", np.int16, 1)])\n",
      "/Users/felixgeorge/opt/anaconda3/lib/python3.7/site-packages/tensorflow/python/framework/dtypes.py:519: FutureWarning: Passing (type, 1) or '1type' as a synonym of type is deprecated; in a future version of numpy, it will be understood as (type, (1,)) / '(1,)type'.\n",
      "  _np_quint16 = np.dtype([(\"quint16\", np.uint16, 1)])\n",
      "/Users/felixgeorge/opt/anaconda3/lib/python3.7/site-packages/tensorflow/python/framework/dtypes.py:520: FutureWarning: Passing (type, 1) or '1type' as a synonym of type is deprecated; in a future version of numpy, it will be understood as (type, (1,)) / '(1,)type'.\n",
      "  _np_qint32 = np.dtype([(\"qint32\", np.int32, 1)])\n",
      "/Users/felixgeorge/opt/anaconda3/lib/python3.7/site-packages/tensorflow/python/framework/dtypes.py:525: FutureWarning: Passing (type, 1) or '1type' as a synonym of type is deprecated; in a future version of numpy, it will be understood as (type, (1,)) / '(1,)type'.\n",
      "  np_resource = np.dtype([(\"resource\", np.ubyte, 1)])\n",
      "/Users/felixgeorge/opt/anaconda3/lib/python3.7/site-packages/tensorboard/compat/tensorflow_stub/dtypes.py:541: FutureWarning: Passing (type, 1) or '1type' as a synonym of type is deprecated; in a future version of numpy, it will be understood as (type, (1,)) / '(1,)type'.\n",
      "  _np_qint8 = np.dtype([(\"qint8\", np.int8, 1)])\n",
      "/Users/felixgeorge/opt/anaconda3/lib/python3.7/site-packages/tensorboard/compat/tensorflow_stub/dtypes.py:542: FutureWarning: Passing (type, 1) or '1type' as a synonym of type is deprecated; in a future version of numpy, it will be understood as (type, (1,)) / '(1,)type'.\n",
      "  _np_quint8 = np.dtype([(\"quint8\", np.uint8, 1)])\n",
      "/Users/felixgeorge/opt/anaconda3/lib/python3.7/site-packages/tensorboard/compat/tensorflow_stub/dtypes.py:543: FutureWarning: Passing (type, 1) or '1type' as a synonym of type is deprecated; in a future version of numpy, it will be understood as (type, (1,)) / '(1,)type'.\n",
      "  _np_qint16 = np.dtype([(\"qint16\", np.int16, 1)])\n",
      "/Users/felixgeorge/opt/anaconda3/lib/python3.7/site-packages/tensorboard/compat/tensorflow_stub/dtypes.py:544: FutureWarning: Passing (type, 1) or '1type' as a synonym of type is deprecated; in a future version of numpy, it will be understood as (type, (1,)) / '(1,)type'.\n",
      "  _np_quint16 = np.dtype([(\"quint16\", np.uint16, 1)])\n",
      "/Users/felixgeorge/opt/anaconda3/lib/python3.7/site-packages/tensorboard/compat/tensorflow_stub/dtypes.py:545: FutureWarning: Passing (type, 1) or '1type' as a synonym of type is deprecated; in a future version of numpy, it will be understood as (type, (1,)) / '(1,)type'.\n",
      "  _np_qint32 = np.dtype([(\"qint32\", np.int32, 1)])\n",
      "/Users/felixgeorge/opt/anaconda3/lib/python3.7/site-packages/tensorboard/compat/tensorflow_stub/dtypes.py:550: FutureWarning: Passing (type, 1) or '1type' as a synonym of type is deprecated; in a future version of numpy, it will be understood as (type, (1,)) / '(1,)type'.\n",
      "  np_resource = np.dtype([(\"resource\", np.ubyte, 1)])\n"
     ]
    }
   ],
   "source": [
    "from __future__ import absolute_import, division, print_function, unicode_literals\n",
    "\n",
    "import tensorflow as tf\n",
    "from tensorflow import keras\n",
    "\n",
    "import numpy as np\n",
    "import matplotlib.pyplot as plt"
   ]
  },
  {
   "cell_type": "code",
   "execution_count": 6,
   "metadata": {},
   "outputs": [],
   "source": [
    "import pandas as pd\n",
    "from sklearn.preprocessing import LabelEncoder\n",
    "from sklearn.discriminant_analysis import LinearDiscriminantAnalysis as LDA"
   ]
  },
  {
   "cell_type": "code",
   "execution_count": 109,
   "metadata": {},
   "outputs": [
    {
     "name": "stderr",
     "output_type": "stream",
     "text": [
      "/Users/felixgeorge/opt/anaconda3/lib/python3.7/site-packages/sklearn/discriminant_analysis.py:388: UserWarning: Variables are collinear.\n",
      "  warnings.warn(\"Variables are collinear.\")\n"
     ]
    }
   ],
   "source": [
    "column_header = np.zeros(768)\n",
    "for i in range(768):\n",
    "    column_header[i] = i\n",
    "feature_dict = {i:label for i,label in zip(range(768),column_header)}\n",
    "\n",
    "# print feature_dict\n",
    "\n",
    "df = pd.io.parsers.read_csv(filepath_or_buffer='traffic.csv',\n",
    " header=None,\n",
    " sep=',',\n",
    " )\n",
    "#print df\n",
    "df.columns = [l for i,l in sorted(feature_dict.items())] + ['Label']\n",
    "df.dropna(how=\"all\", inplace=True) # to drop the empty line at file-end\n",
    "\n",
    "df.tail()\n",
    "\n",
    "\n",
    "X = df[column_header].values\n",
    "#print X\n",
    "y_ = df['Label'].values\n",
    "enc = LabelEncoder()\n",
    "label_encoder = enc.fit(y_)\n",
    "y = label_encoder.transform(y_) \n",
    "label_dict = {0: 'NoLeft', 1: 'NoParking', 2:'Stop',3:'NoEntry'}\n",
    "#STEPS\n",
    "sklearn_lda = LDA(n_components=2)\n",
    "X_lda_sklearn = sklearn_lda.fit_transform(X, y)\n",
    "# X_lda_sklearn=np.random.shuffle(X_lda_sklearn)\n",
    "X=np.array(X_lda_sklearn, dtype=float)"
   ]
  },
  {
   "cell_type": "code",
   "execution_count": 110,
   "metadata": {},
   "outputs": [],
   "source": [
    "# x=[[0.1,1],[0.2,2],[0.1,1],[0.2,4],[0.1,1],[0.2,2],[0.1,.1],[0.2,.2],[0.1,.2],[0.2,3]]\n",
    "# y=[0,1,2,3,0,1,2,3,0,1]\n",
    "from keras.utils import to_categorical\n",
    "y_binary = to_categorical(y)\n",
    "# x=np.asarray(x)\n",
    "# x[0].shape"
   ]
  },
  {
   "cell_type": "code",
   "execution_count": 111,
   "metadata": {},
   "outputs": [
    {
     "data": {
      "text/plain": [
       "array([1, 1, 1, 1, 1, 1, 1, 1, 1, 1, 1, 1, 1, 1, 1, 1, 1, 1, 1, 1, 1, 1,\n",
       "       2, 2, 2, 2, 2, 2, 2, 2, 2, 2, 2, 2, 2, 2, 2, 2, 2, 2, 2, 2, 2, 2,\n",
       "       3, 3, 3, 3, 3, 3, 3, 3, 3, 3, 3, 3, 3, 3, 3, 3, 3, 3, 3, 3, 3, 0,\n",
       "       0, 0, 0, 0, 0, 0, 0, 0, 0, 0, 0, 0, 0, 0, 0, 0, 0, 0])"
      ]
     },
     "execution_count": 111,
     "metadata": {},
     "output_type": "execute_result"
    }
   ],
   "source": [
    "y"
   ]
  },
  {
   "cell_type": "code",
   "execution_count": 112,
   "metadata": {},
   "outputs": [
    {
     "data": {
      "text/plain": [
       "array([0., 1., 0., 0.], dtype=float32)"
      ]
     },
     "execution_count": 112,
     "metadata": {},
     "output_type": "execute_result"
    }
   ],
   "source": [
    "y_binary[0]"
   ]
  },
  {
   "cell_type": "code",
   "execution_count": 113,
   "metadata": {},
   "outputs": [],
   "source": [
    "from keras.models import Sequential"
   ]
  },
  {
   "cell_type": "code",
   "execution_count": 114,
   "metadata": {},
   "outputs": [],
   "source": [
    "from keras.layers import Dense"
   ]
  },
  {
   "cell_type": "code",
   "execution_count": 119,
   "metadata": {},
   "outputs": [],
   "source": [
    "model = Sequential()\n",
    "model.add(Dense(units=50, activation='relu', input_shape=(2,)))\n",
    "model.add(Dense(units=50, activation='relu'))\n",
    "model.add(Dense(units=40, activation='relu'))\n",
    "model.add(Dense(units=10, activation='relu'))\n",
    "model.add(Dense(units=4, activation='softmax'))"
   ]
  },
  {
   "cell_type": "code",
   "execution_count": 120,
   "metadata": {},
   "outputs": [
    {
     "name": "stdout",
     "output_type": "stream",
     "text": [
      "Model: \"sequential_12\"\n",
      "_________________________________________________________________\n",
      "Layer (type)                 Output Shape              Param #   \n",
      "=================================================================\n",
      "dense_40 (Dense)             (None, 50)                150       \n",
      "_________________________________________________________________\n",
      "dense_41 (Dense)             (None, 50)                2550      \n",
      "_________________________________________________________________\n",
      "dense_42 (Dense)             (None, 40)                2040      \n",
      "_________________________________________________________________\n",
      "dense_43 (Dense)             (None, 10)                410       \n",
      "_________________________________________________________________\n",
      "dense_44 (Dense)             (None, 4)                 44        \n",
      "=================================================================\n",
      "Total params: 5,194\n",
      "Trainable params: 5,194\n",
      "Non-trainable params: 0\n",
      "_________________________________________________________________\n"
     ]
    }
   ],
   "source": [
    "model.summary()"
   ]
  },
  {
   "cell_type": "code",
   "execution_count": 121,
   "metadata": {},
   "outputs": [],
   "source": [
    "model.compile(loss='categorical_crossentropy',\n",
    "              optimizer='sgd',\n",
    "              metrics=['accuracy'])"
   ]
  },
  {
   "cell_type": "code",
   "execution_count": 122,
   "metadata": {},
   "outputs": [
    {
     "name": "stdout",
     "output_type": "stream",
     "text": [
      "Epoch 1/100\n",
      "84/84 [==============================] - 1s 7ms/step - loss: 1.4909 - accuracy: 0.0238\n",
      "Epoch 2/100\n",
      "84/84 [==============================] - 0s 175us/step - loss: 1.4533 - accuracy: 0.0238\n",
      "Epoch 3/100\n",
      "84/84 [==============================] - 0s 178us/step - loss: 1.4273 - accuracy: 0.0238\n",
      "Epoch 4/100\n",
      "84/84 [==============================] - 0s 191us/step - loss: 1.4083 - accuracy: 0.0238\n",
      "Epoch 5/100\n",
      "84/84 [==============================] - 0s 198us/step - loss: 1.3894 - accuracy: 0.0238\n",
      "Epoch 6/100\n",
      "84/84 [==============================] - 0s 192us/step - loss: 1.3728 - accuracy: 0.0595\n",
      "Epoch 7/100\n",
      "84/84 [==============================] - 0s 193us/step - loss: 1.3567 - accuracy: 0.2024\n",
      "Epoch 8/100\n",
      "84/84 [==============================] - 0s 174us/step - loss: 1.3406 - accuracy: 0.2738\n",
      "Epoch 9/100\n",
      "84/84 [==============================] - 0s 172us/step - loss: 1.3240 - accuracy: 0.3452\n",
      "Epoch 10/100\n",
      "84/84 [==============================] - 0s 183us/step - loss: 1.3067 - accuracy: 0.4048\n",
      "Epoch 11/100\n",
      "84/84 [==============================] - 0s 179us/step - loss: 1.2862 - accuracy: 0.4286\n",
      "Epoch 12/100\n",
      "84/84 [==============================] - 0s 205us/step - loss: 1.2651 - accuracy: 0.7143\n",
      "Epoch 13/100\n",
      "84/84 [==============================] - 0s 202us/step - loss: 1.2447 - accuracy: 0.8452\n",
      "Epoch 14/100\n",
      "84/84 [==============================] - 0s 188us/step - loss: 1.2280 - accuracy: 0.8690\n",
      "Epoch 15/100\n",
      "84/84 [==============================] - 0s 188us/step - loss: 1.2132 - accuracy: 0.8690\n",
      "Epoch 16/100\n",
      "84/84 [==============================] - 0s 192us/step - loss: 1.1993 - accuracy: 0.8810\n",
      "Epoch 17/100\n",
      "84/84 [==============================] - 0s 181us/step - loss: 1.1854 - accuracy: 0.8929\n",
      "Epoch 18/100\n",
      "84/84 [==============================] - 0s 164us/step - loss: 1.1718 - accuracy: 0.9167\n",
      "Epoch 19/100\n",
      "84/84 [==============================] - 0s 202us/step - loss: 1.1594 - accuracy: 0.9167\n",
      "Epoch 20/100\n",
      "84/84 [==============================] - 0s 192us/step - loss: 1.1460 - accuracy: 0.9167\n",
      "Epoch 21/100\n",
      "84/84 [==============================] - 0s 175us/step - loss: 1.1332 - accuracy: 0.9167\n",
      "Epoch 22/100\n",
      "84/84 [==============================] - 0s 189us/step - loss: 1.1195 - accuracy: 0.9405\n",
      "Epoch 23/100\n",
      "84/84 [==============================] - 0s 177us/step - loss: 1.1062 - accuracy: 0.9405\n",
      "Epoch 24/100\n",
      "84/84 [==============================] - 0s 187us/step - loss: 1.0918 - accuracy: 0.9405\n",
      "Epoch 25/100\n",
      "84/84 [==============================] - 0s 170us/step - loss: 1.0780 - accuracy: 0.9405\n",
      "Epoch 26/100\n",
      "84/84 [==============================] - 0s 185us/step - loss: 1.0631 - accuracy: 0.9405\n",
      "Epoch 27/100\n",
      "84/84 [==============================] - 0s 220us/step - loss: 1.0479 - accuracy: 0.9405\n",
      "Epoch 28/100\n",
      "84/84 [==============================] - 0s 205us/step - loss: 1.0329 - accuracy: 0.9405\n",
      "Epoch 29/100\n",
      "84/84 [==============================] - 0s 181us/step - loss: 1.0164 - accuracy: 0.9405\n",
      "Epoch 30/100\n",
      "84/84 [==============================] - 0s 168us/step - loss: 1.0000 - accuracy: 0.9405\n",
      "Epoch 31/100\n",
      "84/84 [==============================] - 0s 173us/step - loss: 0.9831 - accuracy: 0.9405\n",
      "Epoch 32/100\n",
      "84/84 [==============================] - 0s 172us/step - loss: 0.9659 - accuracy: 0.9405\n",
      "Epoch 33/100\n",
      "84/84 [==============================] - 0s 171us/step - loss: 0.9486 - accuracy: 0.9405\n",
      "Epoch 34/100\n",
      "84/84 [==============================] - 0s 159us/step - loss: 0.9307 - accuracy: 0.9405\n",
      "Epoch 35/100\n",
      "84/84 [==============================] - 0s 167us/step - loss: 0.9122 - accuracy: 0.9643\n",
      "Epoch 36/100\n",
      "84/84 [==============================] - 0s 200us/step - loss: 0.8936 - accuracy: 0.9524\n",
      "Epoch 37/100\n",
      "84/84 [==============================] - 0s 174us/step - loss: 0.8744 - accuracy: 0.9643\n",
      "Epoch 38/100\n",
      "84/84 [==============================] - 0s 189us/step - loss: 0.8557 - accuracy: 0.9762\n",
      "Epoch 39/100\n",
      "84/84 [==============================] - 0s 181us/step - loss: 0.8358 - accuracy: 0.9762\n",
      "Epoch 40/100\n",
      "84/84 [==============================] - 0s 188us/step - loss: 0.8167 - accuracy: 0.9762\n",
      "Epoch 41/100\n",
      "84/84 [==============================] - 0s 209us/step - loss: 0.7977 - accuracy: 0.9762\n",
      "Epoch 42/100\n",
      "84/84 [==============================] - 0s 197us/step - loss: 0.7789 - accuracy: 0.9762\n",
      "Epoch 43/100\n",
      "84/84 [==============================] - 0s 185us/step - loss: 0.7600 - accuracy: 0.9881\n",
      "Epoch 44/100\n",
      "84/84 [==============================] - 0s 193us/step - loss: 0.7417 - accuracy: 0.9881\n",
      "Epoch 45/100\n",
      "84/84 [==============================] - 0s 195us/step - loss: 0.7234 - accuracy: 0.9762\n",
      "Epoch 46/100\n",
      "84/84 [==============================] - 0s 228us/step - loss: 0.7051 - accuracy: 0.9881\n",
      "Epoch 47/100\n",
      "84/84 [==============================] - 0s 204us/step - loss: 0.6871 - accuracy: 0.9881\n",
      "Epoch 48/100\n",
      "84/84 [==============================] - 0s 203us/step - loss: 0.6700 - accuracy: 0.9762\n",
      "Epoch 49/100\n",
      "84/84 [==============================] - 0s 235us/step - loss: 0.6526 - accuracy: 0.9881\n",
      "Epoch 50/100\n",
      "84/84 [==============================] - 0s 170us/step - loss: 0.6358 - accuracy: 0.9762\n",
      "Epoch 51/100\n",
      "84/84 [==============================] - 0s 167us/step - loss: 0.6190 - accuracy: 0.9881\n",
      "Epoch 52/100\n",
      "84/84 [==============================] - 0s 211us/step - loss: 0.6029 - accuracy: 0.9762\n",
      "Epoch 53/100\n",
      "84/84 [==============================] - 0s 251us/step - loss: 0.5869 - accuracy: 0.9762\n",
      "Epoch 54/100\n",
      "84/84 [==============================] - 0s 221us/step - loss: 0.5712 - accuracy: 0.9762\n",
      "Epoch 55/100\n",
      "84/84 [==============================] - 0s 201us/step - loss: 0.5564 - accuracy: 0.9762\n",
      "Epoch 56/100\n",
      "84/84 [==============================] - 0s 275us/step - loss: 0.5412 - accuracy: 0.9762\n",
      "Epoch 57/100\n",
      "84/84 [==============================] - 0s 315us/step - loss: 0.5268 - accuracy: 0.9762\n",
      "Epoch 58/100\n",
      "84/84 [==============================] - 0s 304us/step - loss: 0.5128 - accuracy: 0.9762\n",
      "Epoch 59/100\n",
      "84/84 [==============================] - 0s 314us/step - loss: 0.4989 - accuracy: 0.9762\n",
      "Epoch 60/100\n",
      "84/84 [==============================] - 0s 318us/step - loss: 0.4854 - accuracy: 0.9762\n",
      "Epoch 61/100\n",
      "84/84 [==============================] - 0s 209us/step - loss: 0.4725 - accuracy: 0.9762\n",
      "Epoch 62/100\n",
      "84/84 [==============================] - 0s 254us/step - loss: 0.4586 - accuracy: 0.9762\n",
      "Epoch 63/100\n",
      "84/84 [==============================] - 0s 200us/step - loss: 0.4461 - accuracy: 0.9762\n",
      "Epoch 64/100\n",
      "84/84 [==============================] - 0s 247us/step - loss: 0.4335 - accuracy: 0.9762\n",
      "Epoch 65/100\n",
      "84/84 [==============================] - 0s 232us/step - loss: 0.4217 - accuracy: 0.9762\n",
      "Epoch 66/100\n",
      "84/84 [==============================] - 0s 324us/step - loss: 0.4102 - accuracy: 0.9762\n",
      "Epoch 67/100\n",
      "84/84 [==============================] - 0s 187us/step - loss: 0.3990 - accuracy: 0.9762\n",
      "Epoch 68/100\n",
      "84/84 [==============================] - 0s 256us/step - loss: 0.3883 - accuracy: 0.9762\n",
      "Epoch 69/100\n",
      "84/84 [==============================] - 0s 240us/step - loss: 0.3775 - accuracy: 0.9762\n",
      "Epoch 70/100\n",
      "84/84 [==============================] - 0s 216us/step - loss: 0.3671 - accuracy: 0.9762\n",
      "Epoch 71/100\n",
      "84/84 [==============================] - 0s 223us/step - loss: 0.3570 - accuracy: 0.9762\n",
      "Epoch 72/100\n",
      "84/84 [==============================] - 0s 227us/step - loss: 0.3475 - accuracy: 0.9762\n",
      "Epoch 73/100\n",
      "84/84 [==============================] - 0s 259us/step - loss: 0.3381 - accuracy: 0.9762\n",
      "Epoch 74/100\n",
      "84/84 [==============================] - 0s 276us/step - loss: 0.3288 - accuracy: 0.9762\n",
      "Epoch 75/100\n",
      "84/84 [==============================] - 0s 213us/step - loss: 0.3202 - accuracy: 0.9762\n",
      "Epoch 76/100\n",
      "84/84 [==============================] - 0s 196us/step - loss: 0.3115 - accuracy: 0.9762\n",
      "Epoch 77/100\n",
      "84/84 [==============================] - 0s 178us/step - loss: 0.3032 - accuracy: 0.9762\n",
      "Epoch 78/100\n",
      "84/84 [==============================] - 0s 225us/step - loss: 0.2955 - accuracy: 0.9762\n",
      "Epoch 79/100\n",
      "84/84 [==============================] - 0s 233us/step - loss: 0.2876 - accuracy: 0.9762\n",
      "Epoch 80/100\n",
      "84/84 [==============================] - 0s 220us/step - loss: 0.2800 - accuracy: 0.9762\n",
      "Epoch 81/100\n"
     ]
    },
    {
     "name": "stdout",
     "output_type": "stream",
     "text": [
      "84/84 [==============================] - 0s 191us/step - loss: 0.2727 - accuracy: 0.9881\n",
      "Epoch 82/100\n",
      "84/84 [==============================] - 0s 207us/step - loss: 0.2659 - accuracy: 0.9762\n",
      "Epoch 83/100\n",
      "84/84 [==============================] - 0s 173us/step - loss: 0.2589 - accuracy: 0.9881\n",
      "Epoch 84/100\n",
      "84/84 [==============================] - 0s 183us/step - loss: 0.2529 - accuracy: 0.9881\n",
      "Epoch 85/100\n",
      "84/84 [==============================] - 0s 154us/step - loss: 0.2464 - accuracy: 0.9762\n",
      "Epoch 86/100\n",
      "84/84 [==============================] - 0s 169us/step - loss: 0.2401 - accuracy: 0.9762\n",
      "Epoch 87/100\n",
      "84/84 [==============================] - 0s 167us/step - loss: 0.2340 - accuracy: 0.9881\n",
      "Epoch 88/100\n",
      "84/84 [==============================] - 0s 183us/step - loss: 0.2283 - accuracy: 0.9881\n",
      "Epoch 89/100\n",
      "84/84 [==============================] - 0s 184us/step - loss: 0.2230 - accuracy: 0.9881\n",
      "Epoch 90/100\n",
      "84/84 [==============================] - 0s 144us/step - loss: 0.2176 - accuracy: 0.9881\n",
      "Epoch 91/100\n",
      "84/84 [==============================] - 0s 152us/step - loss: 0.2123 - accuracy: 0.9881\n",
      "Epoch 92/100\n",
      "84/84 [==============================] - 0s 159us/step - loss: 0.2074 - accuracy: 0.9881\n",
      "Epoch 93/100\n",
      "84/84 [==============================] - 0s 158us/step - loss: 0.2025 - accuracy: 0.9881\n",
      "Epoch 94/100\n",
      "84/84 [==============================] - 0s 159us/step - loss: 0.1978 - accuracy: 0.9881\n",
      "Epoch 95/100\n",
      "84/84 [==============================] - 0s 150us/step - loss: 0.1934 - accuracy: 0.9881\n",
      "Epoch 96/100\n",
      "84/84 [==============================] - 0s 199us/step - loss: 0.1893 - accuracy: 0.9881\n",
      "Epoch 97/100\n",
      "84/84 [==============================] - 0s 202us/step - loss: 0.1850 - accuracy: 0.9881\n",
      "Epoch 98/100\n",
      "84/84 [==============================] - 0s 207us/step - loss: 0.1811 - accuracy: 0.9881\n",
      "Epoch 99/100\n",
      "84/84 [==============================] - 0s 243us/step - loss: 0.1768 - accuracy: 0.9881\n",
      "Epoch 100/100\n",
      "84/84 [==============================] - 0s 277us/step - loss: 0.1728 - accuracy: 0.9881\n"
     ]
    },
    {
     "data": {
      "text/plain": [
       "<keras.callbacks.callbacks.History at 0x1a4961eb10>"
      ]
     },
     "execution_count": 122,
     "metadata": {},
     "output_type": "execute_result"
    }
   ],
   "source": [
    "model.fit(X,y_binary,epochs=100)"
   ]
  },
  {
   "cell_type": "code",
   "execution_count": 132,
   "metadata": {},
   "outputs": [],
   "source": [
    "a=model.predict(X)"
   ]
  },
  {
   "cell_type": "code",
   "execution_count": 133,
   "metadata": {},
   "outputs": [],
   "source": [
    "temp=[]\n",
    "for i in range(len(a)):\n",
    "    temp.append(np.argmax(a[i]))"
   ]
  },
  {
   "cell_type": "code",
   "execution_count": 134,
   "metadata": {},
   "outputs": [
    {
     "name": "stdout",
     "output_type": "stream",
     "text": [
      "1 1\n",
      "1 1\n",
      "1 1\n",
      "1 1\n",
      "1 1\n",
      "1 1\n",
      "1 1\n",
      "1 1\n",
      "1 1\n",
      "1 1\n",
      "1 1\n",
      "1 1\n",
      "1 1\n",
      "1 1\n",
      "1 1\n",
      "1 1\n",
      "1 1\n",
      "1 1\n",
      "1 1\n",
      "1 1\n",
      "1 1\n",
      "1 1\n",
      "2 2\n",
      "2 2\n",
      "2 2\n",
      "2 2\n",
      "2 2\n",
      "2 2\n",
      "2 2\n",
      "2 2\n",
      "2 2\n",
      "2 2\n",
      "2 2\n",
      "2 2\n",
      "2 2\n",
      "2 2\n",
      "2 2\n",
      "2 2\n",
      "2 2\n",
      "2 2\n",
      "2 2\n",
      "2 2\n",
      "2 2\n",
      "2 2\n",
      "3 3\n",
      "3 3\n",
      "3 3\n",
      "3 3\n",
      "3 3\n",
      "3 3\n",
      "3 3\n",
      "3 3\n",
      "3 3\n",
      "3 3\n",
      "3 3\n",
      "3 3\n",
      "3 3\n",
      "3 3\n",
      "3 3\n",
      "3 3\n",
      "3 3\n",
      "3 3\n",
      "3 3\n",
      "3 3\n",
      "3 3\n",
      "0 0\n",
      "0 0\n",
      "0 0\n",
      "0 0\n",
      "0 0\n",
      "0 0\n",
      "0 0\n",
      "0 0\n",
      "0 0\n",
      "0 0\n",
      "0 0\n",
      "1 0\n",
      "0 0\n",
      "0 0\n",
      "0 0\n",
      "0 0\n",
      "0 0\n",
      "0 0\n",
      "0 0\n"
     ]
    }
   ],
   "source": [
    "for i in range(len(temp)):\n",
    "    print(temp[i],y[i])"
   ]
  },
  {
   "cell_type": "code",
   "execution_count": null,
   "metadata": {},
   "outputs": [],
   "source": []
  }
 ],
 "metadata": {
  "kernelspec": {
   "display_name": "Python 3",
   "language": "python",
   "name": "python3"
  },
  "language_info": {
   "codemirror_mode": {
    "name": "ipython",
    "version": 3
   },
   "file_extension": ".py",
   "mimetype": "text/x-python",
   "name": "python",
   "nbconvert_exporter": "python",
   "pygments_lexer": "ipython3",
   "version": "3.7.4"
  }
 },
 "nbformat": 4,
 "nbformat_minor": 2
}
