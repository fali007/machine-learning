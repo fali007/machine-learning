{
 "cells": [
  {
   "cell_type": "code",
   "execution_count": 53,
   "metadata": {},
   "outputs": [],
   "source": [
    "import numpy as np\n",
    "import matplotlib.pyplot as plt"
   ]
  },
  {
   "cell_type": "code",
   "execution_count": 54,
   "metadata": {},
   "outputs": [
    {
     "data": {
      "text/plain": [
       "(7000, 785)"
      ]
     },
     "execution_count": 54,
     "metadata": {},
     "output_type": "execute_result"
    }
   ],
   "source": [
    "data=np.genfromtxt('mnist_train.csv',delimiter=',')\n",
    "data.shape"
   ]
  },
  {
   "cell_type": "code",
   "execution_count": 55,
   "metadata": {},
   "outputs": [
    {
     "data": {
      "text/plain": [
       "array([[0., 0., 0., ..., 0., 0., 0.],\n",
       "       [0., 0., 0., ..., 0., 0., 0.],\n",
       "       [0., 0., 0., ..., 0., 0., 0.],\n",
       "       ...,\n",
       "       [0., 0., 0., ..., 0., 0., 0.],\n",
       "       [0., 0., 0., ..., 0., 0., 0.],\n",
       "       [0., 0., 0., ..., 0., 0., 0.]])"
      ]
     },
     "execution_count": 55,
     "metadata": {},
     "output_type": "execute_result"
    }
   ],
   "source": [
    "data=data[:,1:]\n",
    "data"
   ]
  },
  {
   "cell_type": "code",
   "execution_count": 56,
   "metadata": {},
   "outputs": [
    {
     "data": {
      "text/plain": [
       "<matplotlib.image.AxesImage at 0x1281a71d0>"
      ]
     },
     "execution_count": 56,
     "metadata": {},
     "output_type": "execute_result"
    },
    {
     "data": {
      "image/png": "[encoded data removed]",
      "text/plain": [
       "<Figure size 432x288 with 1 Axes>"
      ]
     },
     "metadata": {
      "needs_background": "light"
     },
     "output_type": "display_data"
    }
   ],
   "source": [
    "test=data[0]\n",
    "test = (np.reshape(test, (28, 28))).astype(np.uint8)\n",
    "plt.imshow(test)"
   ]
  },
  {
   "cell_type": "code",
   "execution_count": null,
   "metadata": {},
   "outputs": [],
   "source": []
  },
  {
   "cell_type": "code",
   "execution_count": 80,
   "metadata": {},
   "outputs": [],
   "source": [
    "class neural_net:\n",
    "    def __init__(self,num_hidden_layers,num_neuron,learning_rate):\n",
    "        self.num_input=7000\n",
    "        self.dimension=784\n",
    "        self.out=10\n",
    "        self.layers=[]\n",
    "        self.bias=[]\n",
    "        self.weights=[]\n",
    "        self.num_hidden_layers=num_hidden_layers\n",
    "        self.num_neuron=num_neuron\n",
    "        self.learning_rate=learning_rate\n",
    "        self.d_layers=[]\n",
    "        self.d_weights=[]\n",
    "        self.d_bias=[]\n",
    "        self.x_train=np.zeros((7000,784))\n",
    "        self.y_train=np.zeros(7000)\n",
    "        self.y_train_hot=np.zeros((7000,10))\n",
    "    def relu(self,x):\n",
    "        return np.maximum(0,x)\n",
    "    def getdata(self):\n",
    "        data=np.genfromtxt('mnist_train.csv',delimiter=',')\n",
    "        self.y_train=data[:,0]\n",
    "        self.x_train=data[:,1:]/255\n",
    "        self.y_train=self.y_train.astype(int)\n",
    "        self.y_train_hot[range(self.num_input),self.y_train]=1\n",
    "    def weight_initialze(self):\n",
    "        self.getdata()\n",
    "        alpha=0.1\n",
    "        W=alpha*np.random.randn(self.dimension,self.num_neuron)\n",
    "        self.weights.append(W)\n",
    "        b=np.zeros((1,self.num_neuron))\n",
    "        self.bias.append(b)\n",
    "        for i in range(1,self.num_hidden_layers):\n",
    "            W=alpha*np.random.randn(self.num_neuron,self.num_neuron)\n",
    "            self.weights.append(W)\n",
    "            b=np.zeros((1,self.num_neuron))\n",
    "            self.bias.append(b)\n",
    "        W=alpha*np.random.randn(self.num_neuron,self.out)\n",
    "        self.weights.append(W)\n",
    "        b=np.zeros((1,self.out))\n",
    "        self.bias.append(b)      \n",
    "    def forward(self):\n",
    "        j=0\n",
    "        self.layers=[]\n",
    "        self.layers.append(np.dot(self.x_train,self.weights[j])+self.bias[j])\n",
    "        for i in range(1,self.num_hidden_layers):\n",
    "            j+=1\n",
    "            self.layers.append(self.relu((np.dot(self.layers[j-1],self.weights[j])+self.bias[j])))\n",
    "        x=np.exp((np.dot(self.layers[j],self.weights[j+1]))+self.bias[j+1])\n",
    "        x=x/np.sum(x,axis=1,keepdims=True)\n",
    "        self.layers.append(x)\n",
    "    def back(self):\n",
    "        j=0\n",
    "        k=self.num_hidden_layers\n",
    "        self.d_layers=[]\n",
    "        self.d_weights=[]\n",
    "        self.d_bias=[]\n",
    "        self.d_layers.append((self.layers[k]-self.y_train_hot)/self.num_input)\n",
    "        self.d_weights.append(np.dot((self.layers[k-1]).T,self.d_layers[j]))\n",
    "        self.d_bias.append(np.sum(self.d_layers[j],axis=0,keepdims=True))\n",
    "        for i in range(1,self.num_hidden_layers):\n",
    "            j+=1\n",
    "            self.d_layers.append(np.dot(self.d_layers[j-1],(self.weights[k]).T))\n",
    "            W=self.d_layers[j]\n",
    "            W[self.layers[k-1]<=0]=0\n",
    "            self.d_layers[j]=W\n",
    "            k-=1\n",
    "            self.d_weights.append(np.dot((self.layers[k-1]).T,self.d_layers[j]))\n",
    "            self.d_bias.append(np.sum(self.d_layers[j],axis=0,keepdims=True))\n",
    "        self.d_layers.append(np.dot(self.d_layers[j],(self.weights[k]).T))\n",
    "        self.d_weights.append(np.dot((self.x_train).T,self.d_layers[j+1]))\n",
    "        self.d_bias.append(np.sum(self.d_layers[j+1],axis=0,keepdims=True))\n",
    "    def weight_updation(self):\n",
    "        k=self.num_hidden_layers\n",
    "        for i in range(self.num_hidden_layers):\n",
    "            self.weights[i]+=-self.learning_rate*self.d_weights[k]\n",
    "            self.bias[i]+=-self.learning_rate*self.d_bias[k]\n",
    "            k=k-1\n",
    "    def error(self):\n",
    "        loss=0.5*np.sum(np.square((self.layers[self.num_hidden]-self.Y_train_hot)))/7000\n",
    "        return (loss)\n",
    "    def train(self):\n",
    "        epoch=1000           # change the epochs to see the variation\n",
    "        self.weight_initialze()\n",
    "        for i in range(epoch):\n",
    "            self.forward()\n",
    "            self.back()\n",
    "            self.weight_updation()"
   ]
  },
  {
   "cell_type": "code",
   "execution_count": 81,
   "metadata": {},
   "outputs": [],
   "source": [
    "a=neural_net(3,300,.1)\n",
    "a.train()"
   ]
  },
  {
   "cell_type": "code",
   "execution_count": null,
   "metadata": {},
   "outputs": [],
   "source": []
  },
  {
   "cell_type": "code",
   "execution_count": 61,
   "metadata": {},
   "outputs": [],
   "source": [
    "class NeuralNet:\n",
    "    def __init__(self,num_hidden,num_neuron,learning_rate):\n",
    "        self.num_input=7000                  #took the 7000 samples given for training\n",
    "        self.dimension=784\n",
    "        self.num_out=10                      #output is 10 classes\n",
    "        self.layers=[]\n",
    "        self.weights=[]\n",
    "        self.bias=[]\n",
    "        self.num_hidden=num_hidden\n",
    "        self.num_neuron=num_neuron\n",
    "        self.learning_rate=learning_rate\n",
    "        self.X_train=np.zeros((7000,784))\n",
    "        self.Y_train=np.zeros(7000)\n",
    "        self.d_weights=[]\n",
    "        self.d_bias=[]\n",
    "        self.d_layers=[]\n",
    "        self.Y_train_hot=np.zeros((7000,10))\n",
    "\n",
    "    def relu(self,x):                         #relu for nonlinearity\n",
    "        return np.maximum(0,x)\n",
    "\n",
    "    def get_data(self):                       # getting the data\n",
    "        Data= np.genfromtxt(r'mnist_train.csv', delimiter=',')\n",
    "        self.Y_train=Data[:,0]\n",
    "        self.X_train=Data[:,1:]/255\n",
    "        self.Y_train=self.Y_train.astype(int)\n",
    "        self.Y_train_hot[range(self.num_input),self.Y_train]=1          #one hot representation of training examples\n",
    "\n",
    "    def weight_inialization(self):           #initialising the weights for each layer performance can change with values of alpha\n",
    "        self.get_data()\n",
    "        alpha=.1\n",
    "        W=alpha*np.random.randn(self.dimension,self.num_neuron)\n",
    "        self.weights.append(W)\n",
    "        b=np.zeros((1,self.num_neuron))\n",
    "        self.bias.append(b)\n",
    "        for i in range(1,self.num_hidden):\n",
    "            W=alpha*np.random.randn(self.num_neuron,self.num_neuron)\n",
    "            self.weights.append(W)\n",
    "            b=np.zeros((1,self.num_neuron))\n",
    "            self.bias.append(b)\n",
    "        W=alpha*np.random.randn(self.num_neuron,self.num_out)\n",
    "        self.weights.append(W)\n",
    "        b=np.zeros((1,self.num_out))\n",
    "        self.bias.append(b)\n",
    "\n",
    "    def forward_pass(self):                 #normal forward pass\n",
    "        j=0\n",
    "        self.layers=[]\n",
    "        self.layers.append(np.dot(self.X_train,self.weights[j])+self.bias[j])\n",
    "        for i in range(1,self.num_hidden):\n",
    "            j=j+1\n",
    "            self.layers.append(self.relu((np.dot(self.layers[j-1],self.weights[j])+self.bias[j])))\n",
    "        x=np.exp((np.dot(self.layers[j],self.weights[j+1]))+self.bias[j+1])\n",
    "        x=x/np.sum(x,axis=1,keepdims=True)\n",
    "        self.layers.append(x)\n",
    "\n",
    "    def back_pass(self):                   #backprop\n",
    "        j=0\n",
    "        k=self.num_hidden\n",
    "        self.d_layers=[]\n",
    "        self.d_weights=[]\n",
    "        self.d_bias=[]                                                           #first layer and last layer backprop have to explicitly written\n",
    "        self.d_layers.append((self.layers[k]-self.Y_train_hot)/self.num_input)\n",
    "        self.d_weights.append(np.dot((self.layers[k-1]).T,self.d_layers[j]))\n",
    "        self.d_bias.append(np.sum(self.d_layers[j],axis=0,keepdims=True))\n",
    "        for i in range(1,self.num_hidden):\n",
    "            j=j+1\n",
    "            self.d_layers.append(np.dot(self.d_layers[j-1],(self.weights[k]).T))\n",
    "            W=self.d_layers[j]\n",
    "            W[self.layers[k-1]<=0]=0\n",
    "            self.d_layers[j]=W\n",
    "            k=k-1\n",
    "            self.d_weights.append(np.dot((self.layers[k-1]).T,self.d_layers[j]))\n",
    "            self.d_bias.append(np.sum(self.d_layers[j],axis=0,keepdims=True))\n",
    "        self.d_layers.append(np.dot(self.d_layers[j],(self.weights[k]).T))\n",
    "        self.d_weights.append(np.dot((self.X_train).T,self.d_layers[j+1]))\n",
    "        self.d_bias.append(np.sum(self.d_layers[j+1],axis=0,keepdims=True))\n",
    "\n",
    "    def weight_updation(self):      #updating the weight\n",
    "        k=self.num_hidden\n",
    "        for i in range(self.num_hidden):\n",
    "            self.weights[i]+=-self.learning_rate*self.d_weights[k]\n",
    "            self.bias[i]+=-self.learning_rate*self.d_bias[k]\n",
    "            k=k-1\n",
    "\n",
    "    def error(self):\n",
    "        loss=0.5*np.sum(np.square((self.layers[self.num_hidden]-self.Y_train_hot)))/7000\n",
    "        return (loss)\n",
    "\n",
    "    def accuracy(self):\n",
    "        count=0\n",
    "        predicted=np.argmax(self.layers[self.num_hidden],axis=1)\n",
    "        for i in range(self.num_input):\n",
    "            if(predicted[i]==self.Y_train[i]):\n",
    "                count+=1\n",
    "        count=count/self.num_input\n",
    "        print(count)\n",
    "\n",
    "    def train(self):\n",
    "        epoch=1000           # change the epochs to see the variation\n",
    "        self.weight_inialization()\n",
    "        for i in range(epoch):\n",
    "            self.forward_pass()\n",
    "            self.back_pass()\n",
    "            self.weight_updation()\n",
    "            #print(self.error())\n",
    "\n",
    "    def test(self):\n",
    "        test_data= np.genfromtxt(r'C:\\Users\\hari\\ml_assignment\\mnist_test.csv', delimiter=',')\n",
    "        test_data=test_data/255\n",
    "        j=0\n",
    "        self.layers=[]\n",
    "        self.layers.append(np.dot(test_data,self.weights[j])+self.bias[j])\n",
    "        for i in range(1,self.num_hidden):\n",
    "            j=j+1\n",
    "            self.layers.append(self.relu((np.dot(self.layers[j-1],self.weights[j])+self.bias[j])))\n",
    "        x=np.exp((np.dot(self.layers[j],self.weights[j+1]))+self.bias[j+1])\n",
    "        x=x/np.sum(x,axis=1,keepdims=True)\n",
    "        self.layers.append(x)\n",
    "        predicted=np.argmax(self.layers[self.num_hidden],axis=1)\n",
    "        predicted=predicted.astype(int)\n",
    "        np.savetxt(\"test_result.csv\", predicted, fmt='%10.0f', delimiter='\\t')"
   ]
  },
  {
   "cell_type": "code",
   "execution_count": 64,
   "metadata": {},
   "outputs": [],
   "source": [
    "Net1=NeuralNet(2,300,.1) #declare as NeuralNet(number of hidden layers,number of neurons in hidden layer,learning rate)\n",
    "Net1.train()\n",
    "Net1.accuracy()           #acuuracy in training_set\n",
    "Net1.test()"
   ]
  },
  {
   "cell_type": "code",
   "execution_count": 65,
   "metadata": {},
   "outputs": [
    {
     "name": "stdout",
     "output_type": "stream",
     "text": [
      "0.9901428571428571\n"
     ]
    }
   ],
   "source": [
    "Net1.accuracy()           #acuuracy in training_set"
   ]
  },
  {
   "cell_type": "code",
   "execution_count": null,
   "metadata": {},
   "outputs": [],
   "source": []
  }
 ],
 "metadata": {
  "kernelspec": {
   "display_name": "Python 3",
   "language": "python",
   "name": "python3"
  },
  "language_info": {
   "codemirror_mode": {
    "name": "ipython",
    "version": 3
   },
   "file_extension": ".py",
   "mimetype": "text/x-python",
   "name": "python",
   "nbconvert_exporter": "python",
   "pygments_lexer": "ipython3",
   "version": "3.6.8"
  }
 },
 "nbformat": 4,
 "nbformat_minor": 2
}
