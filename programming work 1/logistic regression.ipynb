{
 "cells": [
  {
   "cell_type": "code",
   "execution_count": 13,
   "metadata": {},
   "outputs": [],
   "source": [
    "import numpy as np\n",
    "import matplotlib.pyplot as plt"
   ]
  },
  {
   "cell_type": "code",
   "execution_count": 14,
   "metadata": {},
   "outputs": [
    {
     "data": {
      "text/plain": [
       "(769, 9)"
      ]
     },
     "execution_count": 14,
     "metadata": {},
     "output_type": "execute_result"
    }
   ],
   "source": [
    "data=np.genfromtxt(\"diabetes2.csv\",delimiter=',')\n",
    "data.shape"
   ]
  },
  {
   "cell_type": "code",
   "execution_count": 15,
   "metadata": {},
   "outputs": [
    {
     "name": "stdout",
     "output_type": "stream",
     "text": [
      "(649, 8) (649, 1)\n"
     ]
    }
   ],
   "source": [
    "x_train=data[1:650,0:8]\n",
    "y_train=data[1:650,8:9]\n",
    "print(x_train.shape,y_train.shape)\n",
    "x_test=data[650:,0:8]\n",
    "y_test=data[650:,8:9]"
   ]
  },
  {
   "cell_type": "code",
   "execution_count": 16,
   "metadata": {},
   "outputs": [
    {
     "data": {
      "text/plain": [
       "8"
      ]
     },
     "execution_count": 16,
     "metadata": {},
     "output_type": "execute_result"
    }
   ],
   "source": [
    "x_train.shape[1]\n",
    "# y_train[1]"
   ]
  },
  {
   "cell_type": "code",
   "execution_count": 17,
   "metadata": {},
   "outputs": [],
   "source": [
    "def sigmoid(x):\n",
    "    temp=1+np.exp(-x)\n",
    "    return 1/temp"
   ]
  },
  {
   "cell_type": "code",
   "execution_count": 18,
   "metadata": {},
   "outputs": [
    {
     "name": "stdout",
     "output_type": "stream",
     "text": [
      "0.7310585786300049\n"
     ]
    }
   ],
   "source": [
    "print(sigmoid(1))"
   ]
  },
  {
   "cell_type": "code",
   "execution_count": 19,
   "metadata": {},
   "outputs": [],
   "source": [
    "def log_likeyhood(x,y,theta):\n",
    "    score=np.dot(x,theta)\n",
    "    temp=np.sum(y*score-np.log(1+np.exp(score)))\n",
    "    return temp"
   ]
  },
  {
   "cell_type": "code",
   "execution_count": 20,
   "metadata": {},
   "outputs": [],
   "source": [
    "def logistic_regression(x,y,weight):\n",
    "    rate=0.001\n",
    "    gradient=0\n",
    "    for i in range(len(x)):\n",
    "        score=np.dot(weight,x[i])\n",
    "        prediction=sigmoid(score)\n",
    "        error=y[i]-prediction\n",
    "        gradient+=x[i]*error\n",
    "    weight+=rate*gradient/len(x)\n",
    "    return weight"
   ]
  },
  {
   "cell_type": "code",
   "execution_count": 24,
   "metadata": {},
   "outputs": [
    {
     "name": "stdout",
     "output_type": "stream",
     "text": [
      "-432301.35120383697\n",
      "-854955.8842747101\n",
      "-883577.748331583\n",
      "-910740.2588938448\n",
      "-934059.0491279925\n",
      "-953144.5551978687\n",
      "-968206.2028480688\n",
      "-979742.6677727716\n",
      "-988369.6684794131\n",
      "-994702.5641746712\n",
      "[ 0.52183913  0.04985812 -0.08816683 -0.00798727  0.01426625  0.01263536\n",
      "  0.08947173 -0.06167397]\n"
     ]
    }
   ],
   "source": [
    "weight=np.zeros(x_train.shape[1])\n",
    "arr=[]\n",
    "for i in range(10000):\n",
    "    weight=logistic_regression(x_train,y_train,weight)\n",
    "    if i%1000==0:\n",
    "        temp=log_likeyhood(x_train,y_train,weight)\n",
    "        print(temp)\n",
    "        arr.append(temp)\n",
    "print(weight)"
   ]
  },
  {
   "cell_type": "code",
   "execution_count": 25,
   "metadata": {},
   "outputs": [
    {
     "data": {
      "text/plain": [
       "[<matplotlib.lines.Line2D at 0x110f15ac8>]"
      ]
     },
     "execution_count": 25,
     "metadata": {},
     "output_type": "execute_result"
    },
    {
     "data": {
      "image/png": "[encoded data removed]",
      "text/plain": [
       "<Figure size 432x288 with 1 Axes>"
      ]
     },
     "metadata": {
      "needs_background": "light"
     },
     "output_type": "display_data"
    }
   ],
   "source": [
    "plt.plot(arr)"
   ]
  },
  {
   "cell_type": "code",
   "execution_count": 22,
   "metadata": {},
   "outputs": [
    {
     "name": "stdout",
     "output_type": "stream",
     "text": [
      "0.0 [0.]\n",
      "1.0 [0.]\n",
      "1.0 [0.]\n",
      "1.0 [0.]\n",
      "1.0 [0.]\n",
      "1.0 [0.]\n",
      "1.0 [1.]\n",
      "1.0 [0.]\n",
      "0.0 [0.]\n",
      "1.0 [0.]\n",
      "0.0 [1.]\n",
      "1.0 [0.]\n",
      "1.0 [1.]\n",
      "1.0 [1.]\n",
      "1.0 [1.]\n",
      "1.0 [1.]\n",
      "0.0 [0.]\n",
      "0.0 [1.]\n",
      "1.0 [1.]\n",
      "1.0 [0.]\n",
      "1.0 [0.]\n",
      "1.0 [0.]\n",
      "0.0 [0.]\n",
      "0.0 [0.]\n",
      "1.0 [0.]\n",
      "0.0 [0.]\n",
      "1.0 [1.]\n",
      "1.0 [1.]\n",
      "0.0 [0.]\n",
      "1.0 [1.]\n",
      "1.0 [0.]\n",
      "0.0 [0.]\n",
      "1.0 [1.]\n",
      "0.0 [0.]\n",
      "1.0 [1.]\n",
      "0.0 [0.]\n",
      "1.0 [0.]\n",
      "1.0 [0.]\n",
      "0.0 [0.]\n",
      "1.0 [0.]\n",
      "1.0 [1.]\n",
      "1.0 [0.]\n",
      "1.0 [1.]\n",
      "1.0 [0.]\n",
      "1.0 [1.]\n",
      "0.0 [0.]\n",
      "1.0 [1.]\n",
      "1.0 [1.]\n",
      "1.0 [0.]\n",
      "1.0 [0.]\n",
      "1.0 [0.]\n",
      "1.0 [0.]\n",
      "0.0 [1.]\n",
      "0.0 [1.]\n",
      "1.0 [0.]\n",
      "1.0 [0.]\n",
      "0.0 [0.]\n",
      "1.0 [1.]\n",
      "1.0 [0.]\n",
      "1.0 [1.]\n",
      "1.0 [1.]\n",
      "1.0 [0.]\n",
      "1.0 [0.]\n",
      "1.0 [1.]\n",
      "1.0 [0.]\n",
      "0.0 [0.]\n",
      "1.0 [1.]\n",
      "1.0 [1.]\n",
      "1.0 [0.]\n",
      "1.0 [0.]\n",
      "0.0 [1.]\n",
      "0.0 [0.]\n",
      "1.0 [0.]\n",
      "1.0 [1.]\n",
      "1.0 [0.]\n",
      "0.0 [0.]\n",
      "0.0 [0.]\n",
      "1.0 [0.]\n",
      "0.0 [0.]\n",
      "1.0 [0.]\n",
      "1.0 [0.]\n",
      "1.0 [1.]\n",
      "1.0 [1.]\n",
      "1.0 [1.]\n",
      "1.0 [0.]\n",
      "0.0 [0.]\n",
      "1.0 [0.]\n",
      "0.0 [0.]\n",
      "0.0 [0.]\n",
      "1.0 [0.]\n",
      "0.0 [1.]\n",
      "1.0 [1.]\n",
      "1.0 [0.]\n",
      "1.0 [0.]\n",
      "1.0 [1.]\n",
      "1.0 [0.]\n",
      "1.0 [0.]\n",
      "0.0 [1.]\n",
      "0.0 [0.]\n",
      "1.0 [1.]\n",
      "1.0 [1.]\n",
      "1.0 [1.]\n",
      "0.0 [0.]\n",
      "1.0 [0.]\n",
      "1.0 [1.]\n",
      "1.0 [1.]\n",
      "0.0 [1.]\n",
      "1.0 [0.]\n",
      "0.0 [1.]\n",
      "0.0 [0.]\n",
      "1.0 [1.]\n",
      "0.0 [0.]\n",
      "1.0 [1.]\n",
      "1.0 [0.]\n",
      "1.0 [0.]\n",
      "0.0 [0.]\n",
      "1.0 [0.]\n",
      "0.0 [1.]\n",
      "0.0 [0.]\n",
      "-22177.48447915538\n"
     ]
    }
   ],
   "source": [
    "for i in range(len(x_test)):\n",
    "    score=np.dot(weight,x_test[i])\n",
    "    print(np.round(sigmoid(score)),y_test[i])\n",
    "print(log_likeyhood(x_test,y_test,weight))"
   ]
  },
  {
   "cell_type": "code",
   "execution_count": 26,
   "metadata": {},
   "outputs": [
    {
     "name": "stdout",
     "output_type": "stream",
     "text": [
      "[-8.44550652] [[ 1.34547844e-01  3.31881739e-02 -1.27291931e-02 -3.50452216e-04\n",
      "  -9.59317401e-04  9.88203831e-02  1.04509216e+00  1.02568933e-02]]\n"
     ]
    },
    {
     "name": "stderr",
     "output_type": "stream",
     "text": [
      "/anaconda3/lib/python3.6/site-packages/sklearn/linear_model/logistic.py:432: FutureWarning: Default solver will be changed to 'lbfgs' in 0.22. Specify a solver to silence this warning.\n",
      "  FutureWarning)\n",
      "/anaconda3/lib/python3.6/site-packages/sklearn/utils/validation.py:724: DataConversionWarning: A column-vector y was passed when a 1d array was expected. Please change the shape of y to (n_samples, ), for example using ravel().\n",
      "  y = column_or_1d(y, warn=True)\n"
     ]
    }
   ],
   "source": [
    "from sklearn.linear_model import LogisticRegression\n",
    "\n",
    "clf = LogisticRegression(fit_intercept=True, C = 1e15)\n",
    "clf.fit(x_train, y_train)\n",
    "\n",
    "print(clf.intercept_, clf.coef_)"
   ]
  },
  {
   "cell_type": "code",
   "execution_count": 29,
   "metadata": {},
   "outputs": [
    {
     "name": "stdout",
     "output_type": "stream",
     "text": [
      "1.0 [0.]\n",
      "1.0 [0.]\n",
      "1.0 [0.]\n",
      "1.0 [0.]\n",
      "1.0 [0.]\n",
      "1.0 [0.]\n",
      "1.0 [1.]\n",
      "1.0 [0.]\n",
      "1.0 [0.]\n",
      "1.0 [0.]\n",
      "1.0 [1.]\n",
      "1.0 [0.]\n",
      "1.0 [1.]\n",
      "1.0 [1.]\n",
      "1.0 [1.]\n",
      "1.0 [1.]\n",
      "1.0 [0.]\n",
      "1.0 [1.]\n",
      "1.0 [1.]\n",
      "1.0 [0.]\n",
      "1.0 [0.]\n",
      "1.0 [0.]\n",
      "1.0 [0.]\n",
      "1.0 [0.]\n",
      "1.0 [0.]\n",
      "1.0 [0.]\n",
      "1.0 [1.]\n",
      "1.0 [1.]\n",
      "1.0 [0.]\n",
      "1.0 [1.]\n",
      "1.0 [0.]\n",
      "1.0 [0.]\n",
      "1.0 [1.]\n",
      "1.0 [0.]\n",
      "1.0 [1.]\n",
      "1.0 [0.]\n",
      "1.0 [0.]\n",
      "1.0 [0.]\n",
      "1.0 [0.]\n",
      "1.0 [0.]\n",
      "1.0 [1.]\n",
      "1.0 [0.]\n",
      "1.0 [1.]\n",
      "1.0 [0.]\n",
      "1.0 [1.]\n",
      "1.0 [0.]\n",
      "1.0 [1.]\n",
      "1.0 [1.]\n",
      "1.0 [0.]\n",
      "1.0 [0.]\n",
      "1.0 [0.]\n",
      "1.0 [0.]\n",
      "1.0 [1.]\n",
      "1.0 [1.]\n",
      "1.0 [0.]\n",
      "1.0 [0.]\n",
      "1.0 [0.]\n",
      "1.0 [1.]\n",
      "1.0 [0.]\n",
      "1.0 [1.]\n",
      "1.0 [1.]\n",
      "1.0 [0.]\n",
      "1.0 [0.]\n",
      "1.0 [1.]\n",
      "1.0 [0.]\n",
      "1.0 [0.]\n",
      "1.0 [1.]\n",
      "1.0 [1.]\n",
      "1.0 [0.]\n",
      "1.0 [0.]\n",
      "1.0 [1.]\n",
      "1.0 [0.]\n",
      "1.0 [0.]\n",
      "1.0 [1.]\n",
      "1.0 [0.]\n",
      "1.0 [0.]\n",
      "1.0 [0.]\n",
      "1.0 [0.]\n",
      "1.0 [0.]\n",
      "1.0 [0.]\n",
      "1.0 [0.]\n",
      "1.0 [1.]\n",
      "1.0 [1.]\n",
      "1.0 [1.]\n",
      "1.0 [0.]\n",
      "1.0 [0.]\n",
      "1.0 [0.]\n",
      "1.0 [0.]\n",
      "1.0 [0.]\n",
      "1.0 [0.]\n",
      "1.0 [1.]\n",
      "1.0 [1.]\n",
      "1.0 [0.]\n",
      "1.0 [0.]\n",
      "1.0 [1.]\n",
      "1.0 [0.]\n",
      "1.0 [0.]\n",
      "1.0 [1.]\n",
      "1.0 [0.]\n",
      "1.0 [1.]\n",
      "1.0 [1.]\n",
      "1.0 [1.]\n",
      "1.0 [0.]\n",
      "1.0 [0.]\n",
      "1.0 [1.]\n",
      "1.0 [1.]\n",
      "1.0 [1.]\n",
      "1.0 [0.]\n",
      "1.0 [1.]\n",
      "1.0 [0.]\n",
      "1.0 [1.]\n",
      "1.0 [0.]\n",
      "1.0 [1.]\n",
      "1.0 [0.]\n",
      "1.0 [0.]\n",
      "1.0 [0.]\n",
      "1.0 [0.]\n",
      "1.0 [1.]\n",
      "1.0 [0.]\n"
     ]
    }
   ],
   "source": [
    "for i in range(len(x_test)):\n",
    "    score=np.dot(clf.coef_[0],x_test[i])\n",
    "    print(np.round(sigmoid(score)),y_test[i])"
   ]
  },
  {
   "cell_type": "code",
   "execution_count": null,
   "metadata": {},
   "outputs": [],
   "source": []
  }
 ],
 "metadata": {
  "kernelspec": {
   "display_name": "Python 3",
   "language": "python",
   "name": "python3"
  },
  "language_info": {
   "codemirror_mode": {
    "name": "ipython",
    "version": 3
   },
   "file_extension": ".py",
   "mimetype": "text/x-python",
   "name": "python",
   "nbconvert_exporter": "python",
   "pygments_lexer": "ipython3",
   "version": "3.6.8"
  }
 },
 "nbformat": 4,
 "nbformat_minor": 2
}
